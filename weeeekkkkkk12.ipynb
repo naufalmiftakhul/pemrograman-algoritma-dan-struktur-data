{
  "nbformat": 4,
  "nbformat_minor": 0,
  "metadata": {
    "colab": {
      "provenance": [],
      "authorship_tag": "ABX9TyMygQlfFEFq+TciE44M6fil",
      "include_colab_link": true
    },
    "kernelspec": {
      "name": "python3",
      "display_name": "Python 3"
    },
    "language_info": {
      "name": "python"
    }
  },
  "cells": [
    {
      "cell_type": "markdown",
      "metadata": {
        "id": "view-in-github",
        "colab_type": "text"
      },
      "source": [
        "<a href=\"https://colab.research.google.com/github/naufalmiftakhul/pemrograman-algoritma-dan-struktur-data/blob/main/weeeekkkkkk12.ipynb\" target=\"_parent\"><img src=\"https://colab.research.google.com/assets/colab-badge.svg\" alt=\"Open In Colab\"/></a>"
      ]
    },
    {
      "cell_type": "code",
      "source": [
        "def luas_lingkaran():\n",
        "   phi = 3.14\n",
        "   try:\n",
        "    r= int(input(\"masukkan jari jari\"))\n",
        "    print(\"luas lingkaran :\", phi*r*r)\n",
        "   except:\n",
        "    print(\"masukkan angka\")\n",
        "\n",
        "def  luas_segitiga():\n",
        "   try:\n",
        "      alas = int(input(\"masukkan alas\"))\n",
        "      tinggi = int(input(\"masukkan tinggi\"))\n",
        "      print(\"luas segitiga\", (alas * tinggi)/ 2)\n",
        "   except:\n",
        "      print(\"masukkan angka\")\n",
        "\n",
        "def  luas_persegi():\n",
        "   try:\n",
        "    s = int(input(\"masukkan angka\"))\n",
        "    print(\"luas persegi\", s * s)\n",
        "   except:\n",
        "    print(\"masukkan angka\")\n",
        "\n",
        "\n",
        "\n",
        "def function():\n",
        "  while True:\n",
        "    print(\"\\npilih luas yang akan dicari\")\n",
        "    print(\"1. luas lingkaran\")\n",
        "    print(\"2. luas segitiga\")\n",
        "    print(\"3. luas persegi\")\n",
        "    print(\"4. keluar\")\n",
        "\n",
        "    n = input(\"masukkan pilihan 1 - 4:\")\n",
        "\n",
        "    if n == \"1\":\n",
        "      luas_lingkaran()\n",
        "    elif n == \"2\":\n",
        "      luas_segitiga()\n",
        "    elif n == \"3\":\n",
        "      luas_persegi()\n",
        "    elif n == \"4\":\n",
        "      break\n",
        "\n",
        "    else:\n",
        "      print(\"masukkan pilihan yang benar\")\n",
        "\n",
        "function()"
      ],
      "metadata": {
        "id": "xmcKoQG1cxka",
        "colab": {
          "base_uri": "https://localhost:8080/"
        },
        "outputId": "fb6f14a7-4173-4575-dd2a-fde7f7392acd"
      },
      "execution_count": null,
      "outputs": [
        {
          "output_type": "stream",
          "name": "stdout",
          "text": [
            "\n",
            "pilih luas yang akan dicari\n",
            "1. luas lingkaran\n",
            "2. luas segitiga\n",
            "3. luas persegi\n",
            "4. keluar\n",
            "masukkan pilihan 1 - 4:2\n",
            "masukkan alas4\n",
            "masukkan tinggi5\n",
            "luas segitiga 10.0\n",
            "\n",
            "pilih luas yang akan dicari\n",
            "1. luas lingkaran\n",
            "2. luas segitiga\n",
            "3. luas persegi\n",
            "4. keluar\n"
          ]
        }
      ]
    },
    {
      "cell_type": "code",
      "source": [
        "try:\n",
        "  npm = input('masukkan npm anda :')\n",
        "  genap=0\n",
        "  ganjil=0\n",
        "  for i in range(len(npm)):\n",
        "    if i%2==0:\n",
        "        genap +=1\n",
        "    else:\n",
        "        ganjil +=1\n",
        "\n",
        "  print('jumlah genap :',genap)\n",
        "  print('jumlah ganjil :',ganjil)\n",
        "except:\n",
        "  print(\"masskkan npm\")\n"
      ],
      "metadata": {
        "id": "5vR0-KNskZUG"
      },
      "execution_count": null,
      "outputs": []
    }
  ]
}