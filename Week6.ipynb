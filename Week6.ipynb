{
  "nbformat": 4,
  "nbformat_minor": 0,
  "metadata": {
    "colab": {
      "provenance": [],
      "authorship_tag": "ABX9TyP0ay/ZHQlF29nB352g8aeB",
      "include_colab_link": true
    },
    "kernelspec": {
      "name": "python3",
      "display_name": "Python 3"
    },
    "language_info": {
      "name": "python"
    }
  },
  "cells": [
    {
      "cell_type": "markdown",
      "metadata": {
        "id": "view-in-github",
        "colab_type": "text"
      },
      "source": [
        "<a href=\"https://colab.research.google.com/github/naufalmiftakhul/pemrograman-algoritma-dan-struktur-data/blob/main/Week6.ipynb\" target=\"_parent\"><img src=\"https://colab.research.google.com/assets/colab-badge.svg\" alt=\"Open In Colab\"/></a>"
      ]
    },
    {
      "cell_type": "code",
      "execution_count": null,
      "metadata": {
        "id": "szCOBKVKCltt",
        "colab": {
          "base_uri": "https://localhost:8080/"
        },
        "outputId": "af163153-2287-4c36-cc64-25b1c0ea958c"
      },
      "outputs": [
        {
          "output_type": "stream",
          "name": "stdout",
          "text": [
            "1982\n",
            "1980\n",
            "1973\n"
          ]
        }
      ],
      "source": [
        "dates = [1982,1980,1973]\n",
        "N = len(dates)\n",
        "\n",
        "for i in range(N):\n",
        "    print(dates[i])"
      ]
    },
    {
      "cell_type": "code",
      "source": [
        "for i in range(-2, 2):\n",
        "    print(i)"
      ],
      "metadata": {
        "colab": {
          "base_uri": "https://localhost:8080/"
        },
        "id": "EelUouOHHelk",
        "outputId": "da129a50-62c1-4f35-b4a2-2af633005b68"
      },
      "execution_count": null,
      "outputs": [
        {
          "output_type": "stream",
          "name": "stdout",
          "text": [
            "-2\n",
            "-1\n",
            "0\n",
            "1\n"
          ]
        }
      ]
    },
    {
      "cell_type": "code",
      "source": [
        "for year in dates:\n",
        "    print(year)"
      ],
      "metadata": {
        "colab": {
          "base_uri": "https://localhost:8080/"
        },
        "id": "a3YhSxkvHsj-",
        "outputId": "61ce8893-d0e9-4e35-92c8-f04a4c412fbe"
      },
      "execution_count": null,
      "outputs": [
        {
          "output_type": "stream",
          "name": "stdout",
          "text": [
            "1982\n",
            "1980\n",
            "1973\n"
          ]
        }
      ]
    },
    {
      "cell_type": "code",
      "source": [
        "dates = [1982, 1980, 1973, 2000]\n",
        "\n",
        "i = 0\n",
        "year = 0\n",
        "\n",
        "while(year != 1973):\n",
        "    year = dates[i]\n",
        "    i = i + 1\n",
        "    print(year)\n",
        "\n",
        "print(\"It took \", i ,\"repetitions to get out of loop.\")"
      ],
      "metadata": {
        "colab": {
          "base_uri": "https://localhost:8080/"
        },
        "id": "O8m-RQ4VH31F",
        "outputId": "46ae790c-dda7-4b00-b1ae-3cc7bc485caa"
      },
      "execution_count": null,
      "outputs": [
        {
          "output_type": "stream",
          "name": "stdout",
          "text": [
            "1982\n",
            "1980\n",
            "1973\n",
            "It took  3 repetitions to get out of loop.\n"
          ]
        }
      ]
    },
    {
      "cell_type": "code",
      "source": [
        "for i in range(1, 11):\n",
        "    # nested loop\n",
        "    # to iterate from 1 to 10\n",
        "    for j in range(1, 11):\n",
        "        # print multiplication\n",
        "        print(i * j, end=' ')\n",
        "    print()"
      ],
      "metadata": {
        "colab": {
          "base_uri": "https://localhost:8080/"
        },
        "id": "d_oZnCpJIIcU",
        "outputId": "0d50a0a0-eff5-4f8b-caac-5c28f0525e1f"
      },
      "execution_count": null,
      "outputs": [
        {
          "output_type": "stream",
          "name": "stdout",
          "text": [
            "1 2 3 4 5 6 7 8 9 10 \n",
            "2 4 6 8 10 12 14 16 18 20 \n",
            "3 6 9 12 15 18 21 24 27 30 \n",
            "4 8 12 16 20 24 28 32 36 40 \n",
            "5 10 15 20 25 30 35 40 45 50 \n",
            "6 12 18 24 30 36 42 48 54 60 \n",
            "7 14 21 28 35 42 49 56 63 70 \n",
            "8 16 24 32 40 48 56 64 72 80 \n",
            "9 18 27 36 45 54 63 72 81 90 \n",
            "10 20 30 40 50 60 70 80 90 100 \n"
          ]
        }
      ]
    },
    {
      "cell_type": "code",
      "source": [
        "names = ['Kelly', 'Jessa', 'Emma']\n",
        "# outer loop\n",
        "for name in names:\n",
        "    # inner while loop\n",
        "    count = 0\n",
        "    while count < 5:\n",
        "        print(name, end=' ')\n",
        "        # increment counter\n",
        "        count = count + 1\n",
        "    print()"
      ],
      "metadata": {
        "colab": {
          "base_uri": "https://localhost:8080/"
        },
        "id": "UMRSfqH8ISS0",
        "outputId": "d1722b3b-a901-402f-9160-9416e82d343c"
      },
      "execution_count": null,
      "outputs": [
        {
          "output_type": "stream",
          "name": "stdout",
          "text": [
            "Kelly Kelly Kelly Kelly Kelly \n",
            "Jessa Jessa Jessa Jessa Jessa \n",
            "Emma Emma Emma Emma Emma \n"
          ]
        }
      ]
    },
    {
      "cell_type": "markdown",
      "source": [
        "# **soal pertama**"
      ],
      "metadata": {
        "id": "6mp5YD0hJWKG"
      }
    },
    {
      "cell_type": "code",
      "source": [
        "n = int(input(\"masukkan angka : \"))\n",
        "for i in range(1, n+1):\n",
        "    print(\" \" * (n-i), end=\"\")\n",
        "    print(\"* \" * i)"
      ],
      "metadata": {
        "id": "_Vtx32crJY7-"
      },
      "execution_count": null,
      "outputs": []
    },
    {
      "cell_type": "code",
      "source": [
        "n = int(input(\"masukkan angka : \"))\n",
        "for i in range(1, n+1):\n",
        "    print(\"\" * (n-i), end=\"\")\n",
        "    print(\"*\" * i)"
      ],
      "metadata": {
        "colab": {
          "base_uri": "https://localhost:8080/"
        },
        "id": "FAMkkSbgNsfn",
        "outputId": "ee4e51ac-7683-420c-de6b-23ac8c05c05e"
      },
      "execution_count": null,
      "outputs": [
        {
          "output_type": "stream",
          "name": "stdout",
          "text": [
            "masukkan angka : 5\n",
            "*\n",
            "**\n",
            "***\n",
            "****\n",
            "*****\n"
          ]
        }
      ]
    },
    {
      "cell_type": "code",
      "source": [
        "n = int(input(\"masukkan angka : \"))\n",
        "for i in range(1, n+1):\n",
        "    print(\" \" * (n-i), end=\"\")\n",
        "    print(\"* \" * i)"
      ],
      "metadata": {
        "colab": {
          "base_uri": "https://localhost:8080/"
        },
        "id": "TwyMW5FpOWf_",
        "outputId": "776dadfc-71b9-46a8-96dc-a6ab5c8a89b5"
      },
      "execution_count": null,
      "outputs": [
        {
          "name": "stdout",
          "output_type": "stream",
          "text": [
            "masukkan angka : 9999999\n"
          ]
        }
      ]
    },
    {
      "cell_type": "markdown",
      "source": [
        "# **soal ke2**"
      ],
      "metadata": {
        "id": "_c9FfiqYOdn3"
      }
    },
    {
      "cell_type": "code",
      "source": [
        "n = int(input(\"masukkan angka : \"))\n",
        "\n",
        "for i in range(1, n+1):\n",
        "    for j in range(0, n-i+1):\n",
        "        print(' ', end='')\n",
        "    C = 1\n",
        "    for j in range(1, i+1):\n",
        "        print(' ', C, sep='', end='')\n",
        "        C = C * (i - j) // j\n",
        "    print()"
      ],
      "metadata": {
        "colab": {
          "base_uri": "https://localhost:8080/"
        },
        "id": "d_YPNPniOhMn",
        "outputId": "bd3b1681-e919-4c52-f065-7c7745370376"
      },
      "execution_count": null,
      "outputs": [
        {
          "output_type": "stream",
          "name": "stdout",
          "text": [
            "masukkan angka : 5\n",
            "      1\n",
            "     1 1\n",
            "    1 2 1\n",
            "   1 3 3 1\n",
            "  1 4 6 4 1\n"
          ]
        }
      ]
    },
    {
      "cell_type": "code",
      "source": [
        "n = int(input(\"masukkan angka : \"))\n",
        "\n",
        "for i in range(1, n+1):\n",
        "    for j in range(0, n-i+1):\n",
        "        print('', end='')\n",
        "    C = 1\n",
        "    for j in range(1, i+1):\n",
        "        print(' ', C, sep='', end='')\n",
        "        C = C * (i - j) // j\n",
        "    print()"
      ],
      "metadata": {
        "colab": {
          "base_uri": "https://localhost:8080/"
        },
        "id": "pFV10543W7jA",
        "outputId": "2d04c8b9-44a6-400a-f218-fbe9ea7205bf"
      },
      "execution_count": null,
      "outputs": [
        {
          "output_type": "stream",
          "name": "stdout",
          "text": [
            "masukkan angka : 2\n",
            " 1\n",
            " 1 1\n"
          ]
        }
      ]
    },
    {
      "cell_type": "code",
      "source": [
        "n = int(input(\"masukkan angka : \"))\n",
        "\n",
        "for i in range(1, n+1):\n",
        "    for j in range(0, n-i+1):\n",
        "        print(' ', end='')\n",
        "    C = 1\n",
        "    for j in range(1, i+1):\n",
        "        print(' ', C, sep='', end='')\n",
        "        C = C * (i - j) // j\n",
        "    print()"
      ],
      "metadata": {
        "colab": {
          "base_uri": "https://localhost:8080/"
        },
        "id": "OVrXrhChXBpB",
        "outputId": "c486f3c3-93ba-4049-bed6-5088389f4082"
      },
      "execution_count": null,
      "outputs": [
        {
          "output_type": "stream",
          "name": "stdout",
          "text": [
            "masukkan angka : 5\n",
            "      1\n",
            "     1 1\n",
            "    1 2 1\n",
            "   1 3 3 1\n",
            "  1 4 6 4 1\n"
          ]
        }
      ]
    },
    {
      "cell_type": "markdown",
      "source": [
        "# **soal ke3**"
      ],
      "metadata": {
        "id": "b40t-RKVXFxo"
      }
    },
    {
      "cell_type": "code",
      "source": [
        "user = int(input(\"Masukkan angka: \"))\n",
        "\n",
        "for i in range(user):\n",
        "  row = []\n",
        "  for j in range(i + 1):\n",
        "    if j == 0 or j == i:\n",
        "      row.append(1)\n",
        "    else:\n",
        "      row.append(row[j-1] * (i-j+1) // j)\n",
        "print(row, 'jumlah baris: ',sum(row))"
      ],
      "metadata": {
        "id": "BwZDK7VofKVB",
        "outputId": "48c38dbe-578d-4c68-ef17-28512033cdbd",
        "colab": {
          "base_uri": "https://localhost:8080/"
        }
      },
      "execution_count": null,
      "outputs": [
        {
          "output_type": "stream",
          "name": "stdout",
          "text": [
            "Masukkan angka: 1\n",
            "[1] jumlah baris:  1\n"
          ]
        }
      ]
    },
    {
      "cell_type": "code",
      "source": [
        "variable = int(input(\"Masukkan Pascal = \"))\n",
        "\n",
        "rows = [1]\n",
        "total_rows = 1\n",
        "\n",
        "for i in range(1, variable):\n",
        "  new_rows = [1]\n",
        "  for j in range(1, len(rows)):\n",
        "    new_numbers = rows[j - 1] + rows [j]\n",
        "    new_rows.append(new_numbers)\n",
        "    total_rows += new_numbers\n",
        "  new_rows.append(1)\n",
        "  rows = new_rows\n",
        "\n",
        "for k in rows:\n",
        "  print(k, end=' ')\n",
        "\n",
        "print(\"\\nJumlah Total satu baris pada Pascal =\", i+k+j)"
      ],
      "metadata": {
        "colab": {
          "base_uri": "https://localhost:8080/"
        },
        "id": "pkercsabdbmB",
        "outputId": "a3bbec04-1dca-4926-8cc4-386af56b63bd"
      },
      "execution_count": null,
      "outputs": [
        {
          "output_type": "stream",
          "name": "stdout",
          "text": [
            "Masukkan Pascal = 3\n",
            "1 2 1 \n",
            "Jumlah Total satu baris pada Pascal = 4\n"
          ]
        }
      ]
    }
  ]
}