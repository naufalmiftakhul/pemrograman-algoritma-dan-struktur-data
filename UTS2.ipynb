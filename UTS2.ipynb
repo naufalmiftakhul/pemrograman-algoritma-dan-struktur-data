{
  "nbformat": 4,
  "nbformat_minor": 0,
  "metadata": {
    "colab": {
      "provenance": [],
      "authorship_tag": "ABX9TyPFLz5IFEXsXqjUTxXtJw5y",
      "include_colab_link": true
    },
    "kernelspec": {
      "name": "python3",
      "display_name": "Python 3"
    },
    "language_info": {
      "name": "python"
    }
  },
  "cells": [
    {
      "cell_type": "markdown",
      "metadata": {
        "id": "view-in-github",
        "colab_type": "text"
      },
      "source": [
        "<a href=\"https://colab.research.google.com/github/naufalmiftakhul/pemrograman-algoritma-dan-struktur-data/blob/main/UTS2.ipynb\" target=\"_parent\"><img src=\"https://colab.research.google.com/assets/colab-badge.svg\" alt=\"Open In Colab\"/></a>"
      ]
    },
    {
      "cell_type": "code",
      "execution_count": null,
      "metadata": {
        "id": "HC_TvwL1E8b8"
      },
      "outputs": [],
      "source": [
        "baris = int(input(\"Masukkan jumlah baris: \"))\n",
        "for i in range(1, baris + 1):\n",
        "    for j in range(1, i + 1):\n",
        "        print(i*j, end=\" \")\n",
        "    print()"
      ]
    },
    {
      "cell_type": "code",
      "source": [
        "npm = input('masukkan npm anda :')\n",
        "genap=0\n",
        "ganjil=0\n",
        "for i in range(len(npm)):\n",
        "    if i%2==0:\n",
        "        genap +=1\n",
        "    else:\n",
        "        ganjil +=1\n",
        "\n",
        "print('jumlah genap :',genap)\n",
        "print('jumlah ganjil :',ganjil)\n"
      ],
      "metadata": {
        "id": "aQ9-9b9vSGGA"
      },
      "execution_count": null,
      "outputs": []
    }
  ]
}