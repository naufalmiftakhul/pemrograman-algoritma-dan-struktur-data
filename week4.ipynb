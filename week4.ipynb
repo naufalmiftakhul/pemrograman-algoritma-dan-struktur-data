{
  "nbformat": 4,
  "nbformat_minor": 0,
  "metadata": {
    "colab": {
      "provenance": [],
      "authorship_tag": "ABX9TyMRJVoFJMw/9Cl7w2RdQofG",
      "include_colab_link": true
    },
    "kernelspec": {
      "name": "python3",
      "display_name": "Python 3"
    },
    "language_info": {
      "name": "python"
    }
  },
  "cells": [
    {
      "cell_type": "markdown",
      "metadata": {
        "id": "view-in-github",
        "colab_type": "text"
      },
      "source": [
        "<a href=\"https://colab.research.google.com/github/naufalmiftakhul/pemrograman-algoritma-dan-struktur-data/blob/main/week4.ipynb\" target=\"_parent\"><img src=\"https://colab.research.google.com/assets/colab-badge.svg\" alt=\"Open In Colab\"/></a>"
      ]
    },
    {
      "cell_type": "code",
      "execution_count": null,
      "metadata": {
        "colab": {
          "base_uri": "https://localhost:8080/"
        },
        "id": "Ub3jSuZF-tGc",
        "outputId": "7b85b94b-163e-4da2-f0b1-4a512472e79e"
      },
      "outputs": [
        {
          "output_type": "execute_result",
          "data": {
            "text/plain": [
              "True"
            ]
          },
          "metadata": {},
          "execution_count": 2
        }
      ],
      "source": [
        "i=6\n",
        "i>5"
      ]
    },
    {
      "cell_type": "code",
      "source": [
        "i=2\n",
        "i != 6"
      ],
      "metadata": {
        "colab": {
          "base_uri": "https://localhost:8080/"
        },
        "id": "OF3bIGZdA9QR",
        "outputId": "ebc5aa77-2127-4f80-eb2d-324349283766"
      },
      "execution_count": null,
      "outputs": [
        {
          "output_type": "execute_result",
          "data": {
            "text/plain": [
              "True"
            ]
          },
          "metadata": {},
          "execution_count": 5
        }
      ]
    },
    {
      "cell_type": "code",
      "source": [
        "i=6\n",
        "i!=6\n"
      ],
      "metadata": {
        "colab": {
          "base_uri": "https://localhost:8080/"
        },
        "id": "X3kpFSEQBO3h",
        "outputId": "dbd70d3e-aaaa-498c-f956-c6375c919b38"
      },
      "execution_count": null,
      "outputs": [
        {
          "output_type": "execute_result",
          "data": {
            "text/plain": [
              "False"
            ]
          },
          "metadata": {},
          "execution_count": 6
        }
      ]
    },
    {
      "cell_type": "code",
      "source": [
        "\"ACDC\" == \"Michael Jackson\"\n"
      ],
      "metadata": {
        "colab": {
          "base_uri": "https://localhost:8080/"
        },
        "id": "9zWGIkneBeSh",
        "outputId": "975c5343-9199-4b5f-b647-eaf51bef1770"
      },
      "execution_count": null,
      "outputs": [
        {
          "output_type": "execute_result",
          "data": {
            "text/plain": [
              "False"
            ]
          },
          "metadata": {},
          "execution_count": 7
        }
      ]
    },
    {
      "cell_type": "code",
      "source": [
        "\"ACDC\" != \"Michael Jackson\""
      ],
      "metadata": {
        "colab": {
          "base_uri": "https://localhost:8080/"
        },
        "id": "YFxBZCb3BhjB",
        "outputId": "21cf9193-cb9e-44bb-ad54-7b70036df913"
      },
      "execution_count": null,
      "outputs": [
        {
          "output_type": "execute_result",
          "data": {
            "text/plain": [
              "True"
            ]
          },
          "metadata": {},
          "execution_count": 8
        }
      ]
    },
    {
      "cell_type": "code",
      "source": [
        "'B' > 'A'"
      ],
      "metadata": {
        "colab": {
          "base_uri": "https://localhost:8080/"
        },
        "id": "fuEk0egzCCEK",
        "outputId": "b3733d53-8aae-4023-8b31-73cab20b368a"
      },
      "execution_count": null,
      "outputs": [
        {
          "output_type": "execute_result",
          "data": {
            "text/plain": [
              "True"
            ]
          },
          "metadata": {},
          "execution_count": 9
        }
      ]
    },
    {
      "cell_type": "code",
      "source": [
        "'BA' > 'AB'"
      ],
      "metadata": {
        "colab": {
          "base_uri": "https://localhost:8080/"
        },
        "id": "JfV8FDLOCFwZ",
        "outputId": "ede1c0a8-6e7a-4950-8473-ee5f9ed755a6"
      },
      "execution_count": null,
      "outputs": [
        {
          "output_type": "execute_result",
          "data": {
            "text/plain": [
              "True"
            ]
          },
          "metadata": {},
          "execution_count": 10
        }
      ]
    },
    {
      "cell_type": "code",
      "source": [
        "\"ba\" >= 'ba'"
      ],
      "metadata": {
        "colab": {
          "base_uri": "https://localhost:8080/"
        },
        "id": "jiG-7aRQCKNk",
        "outputId": "23eaec2f-348d-4735-a5e7-6a142a9d7c9d"
      },
      "execution_count": null,
      "outputs": [
        {
          "output_type": "execute_result",
          "data": {
            "text/plain": [
              "True"
            ]
          },
          "metadata": {},
          "execution_count": 11
        }
      ]
    },
    {
      "cell_type": "code",
      "source": [
        "age=19\n",
        "if age>18:\n",
        "    print(\"you can enter\")\n",
        "print(\"move on\")\n"
      ],
      "metadata": {
        "colab": {
          "base_uri": "https://localhost:8080/"
        },
        "id": "6NS769KUCVHj",
        "outputId": "a25fb0d6-70a0-4ffe-9886-58e5dfdcfc9f"
      },
      "execution_count": null,
      "outputs": [
        {
          "output_type": "stream",
          "name": "stdout",
          "text": [
            "you can enter\n",
            "move on\n"
          ]
        }
      ]
    },
    {
      "cell_type": "code",
      "source": [
        "age=110\n",
        "if age>18:\n",
        "    print(\"you can enter\")\n",
        "else:\n",
        "    print(\"go see Meat Loaf\")\n",
        "print(\"move on\")"
      ],
      "metadata": {
        "colab": {
          "base_uri": "https://localhost:8080/"
        },
        "id": "K0FEBzIGC9TS",
        "outputId": "434896f4-40cb-4ba6-98ea-37bc23b36d34"
      },
      "execution_count": null,
      "outputs": [
        {
          "output_type": "stream",
          "name": "stdout",
          "text": [
            "you can enter\n",
            "move on\n"
          ]
        }
      ]
    },
    {
      "cell_type": "code",
      "source": [
        "age=17\n",
        "if age>18:\n",
        "    print(\"you can enter\")\n",
        "elif age==18:\n",
        "    print(\"go see Pink Floyd\")\n",
        "else:\n",
        "    print(\"go see Meat Loaf\")\n",
        "print(\"move on\")"
      ],
      "metadata": {
        "colab": {
          "base_uri": "https://localhost:8080/"
        },
        "id": "BxNyw1KqDVdy",
        "outputId": "fdef21f1-4938-4a6f-8428-f5ffa93483be"
      },
      "execution_count": null,
      "outputs": [
        {
          "output_type": "stream",
          "name": "stdout",
          "text": [
            "go see Meat Loaf\n",
            "move on\n"
          ]
        }
      ]
    },
    {
      "cell_type": "code",
      "source": [
        "album_year=1980\n",
        "if album_year==1980:\n",
        "    print(\"album year is greater than 1980\")\n",
        "elif album_year > 18:\n",
        "     print(\"go see Pink Floyd\")\n",
        "else:\n",
        "     print(\"go see Meat Loaf\")\n",
        "print(\"move on\")"
      ],
      "metadata": {
        "colab": {
          "base_uri": "https://localhost:8080/"
        },
        "id": "DzkSj_HXEBUa",
        "outputId": "16a5109a-a5f4-4095-9c21-674ae41433f9"
      },
      "execution_count": null,
      "outputs": [
        {
          "output_type": "stream",
          "name": "stdout",
          "text": [
            "album year is greater than 1980\n",
            "move on\n"
          ]
        }
      ]
    },
    {
      "cell_type": "code",
      "source": [
        "album_year = 1970\n",
        "\n",
        "if album_year > 1980:\n",
        "    print(\"Album year is greater than 1980\")\n",
        "else:\n",
        "    print(\"less than 1980\")\n",
        "\n",
        "print('do something..')"
      ],
      "metadata": {
        "colab": {
          "base_uri": "https://localhost:8080/"
        },
        "id": "dcCj2OwMFpWK",
        "outputId": "dd5007c5-a177-4c40-dbae-aa461f68032f"
      },
      "execution_count": null,
      "outputs": [
        {
          "output_type": "stream",
          "name": "stdout",
          "text": [
            "less than 1980\n",
            "do something..\n"
          ]
        }
      ]
    },
    {
      "cell_type": "markdown",
      "source": [
        "# **tugas minggu 1 membuat program untuk membedakan umur mana yang boleh membuat sim**"
      ],
      "metadata": {
        "id": "YUDhbTzUG3oF"
      }
    },
    {
      "cell_type": "code",
      "source": [
        "age=19\n",
        "if age>=17:\n",
        "    print(\"Boleh Membuat SIM\")\n",
        "elif age<=17:\n",
        "    print(\"Tidak Boleh MEmbuat SIM\")"
      ],
      "metadata": {
        "colab": {
          "base_uri": "https://localhost:8080/"
        },
        "id": "INkzqpkvGTgK",
        "outputId": "24740bca-fe28-4dc0-cc8c-5352f1831774"
      },
      "execution_count": null,
      "outputs": [
        {
          "output_type": "stream",
          "name": "stdout",
          "text": [
            "Boleh Membuat SIM\n"
          ]
        }
      ]
    },
    {
      "cell_type": "markdown",
      "source": [
        "#**tugas minggu ke 2 untuk membuat inputan sebuah nilai**"
      ],
      "metadata": {
        "id": "4uk5rmpOHKQV"
      }
    },
    {
      "cell_type": "code",
      "source": [
        "nilai=int(input(\"masukan nilai anda\"))\n",
        "if nilai>=90:\n",
        "  print(\"A\")\n",
        "elif nilai>=80:\n",
        "  print(\"B+\")\n",
        "elif nilai>=70:\n",
        "  print(\"B\")\n",
        "elif nilai>=60:\n",
        "  print(\"C+\")\n",
        "elif nilai>=50:\n",
        "  print(\"C\")\n",
        "elif nilai>=40:\n",
        "  print(\"D\")\n",
        "else:\n",
        "  print(\"E\")"
      ],
      "metadata": {
        "id": "8OuwtqIwHXAq"
      },
      "execution_count": null,
      "outputs": []
    },
    {
      "cell_type": "markdown",
      "source": [
        "# **tugas minggu ke 3 yaitu memodifikasi tugas 2 sehingga menjadi program yang lebih**"
      ],
      "metadata": {
        "id": "Pqg4DuDLImkb"
      }
    },
    {
      "cell_type": "code",
      "source": [
        "nilai=float(input(\"masukan nilai anda\"))\n",
        "if (nilai>=80.00) and (nilai<=100):\n",
        "  print(\"A\")\n",
        "elif (nilai>=77.50) and (nilai<=79.99):\n",
        "  print(\"A-\")\n",
        "elif (nilai>=75.00) and (nilai<=77.49):\n",
        "  print(\"A/B\")\n",
        "elif (nilai>=72.50) and (nilai<=74.99):\n",
        "  print(\"B+\")\n",
        "elif (nilai>=70.00) and (nilai<=72.49):\n",
        "  print(\"B\")\n",
        "elif (nilai>=67.50) and (nilai<=69.99):\n",
        "  print(\"B-\")\n",
        "elif (nilai>=65.00) and (nilai<=67.49):\n",
        "  print(\"C/B\")\n",
        "elif (nilai>=62.50) and (nilai<=64.99):\n",
        "  print(\"C+\")\n",
        "elif (nilai>=60.00) and (nilai<=62.49):\n",
        "  print(\"C\")\n",
        "elif (nilai>=55.00) and (nilai<=59.99):\n",
        "  print(\"C-\")\n",
        "elif (nilai>=55) and (nilai<=54.99):\n",
        "  print(\"C/D\")\n",
        "elif (nilai>=45.00) and (nilai<=49.99):\n",
        "  print(\"D+\")\n",
        "elif (nilai>=40.00) and (nilai<=44.99):\n",
        "  print(\"D\")\n",
        "else:\n",
        "  print(\"E\")\n"
      ],
      "metadata": {
        "colab": {
          "base_uri": "https://localhost:8080/"
        },
        "id": "zP99QcEsJA30",
        "outputId": "4b0c04f9-b50f-42e9-9ead-c8f46a81c2bd"
      },
      "execution_count": null,
      "outputs": [
        {
          "output_type": "stream",
          "name": "stdout",
          "text": [
            "masukan nilai anda30\n",
            "E\n"
          ]
        }
      ]
    }
  ]
}