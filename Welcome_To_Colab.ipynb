{
  "cells": [
    {
      "cell_type": "markdown",
      "metadata": {
        "id": "view-in-github",
        "colab_type": "text"
      },
      "source": [
        "<a href=\"https://colab.research.google.com/github/naufalmiftakhul/pemrograman-algoritma-dan-struktur-data/blob/main/Welcome_To_Colab.ipynb\" target=\"_parent\"><img src=\"https://colab.research.google.com/assets/colab-badge.svg\" alt=\"Open In Colab\"/></a>"
      ]
    },
    {
      "cell_type": "markdown",
      "source": [
        " **soal minggu pertama**\n",
        "\n",
        " **1.Iist atau daftar adalah koleksi yang diurutkan dan dapat diubah. Mengizinkan anggota duplikat.**\n",
        "\n",
        " **2.Tuple adalah koleksi yang teratur dan tidak dapat diubah. Mengizinkan anggota duplikat.**\n",
        "\n",
        " **3.Set adalah  koleksi yang tidak berurutan, tidak dapat diubah, dan tidak terindeks. Tidak ada anggota yang duplikat.bold text**\n",
        "\n",
        " **4.Dictionary adalah koleksi yang teratur dan dapat diubah. Tidak ada anggota yang duplikat.bold text**\n"
      ],
      "metadata": {
        "id": "FB1jEyTzRTnI"
      }
    },
    {
      "cell_type": "markdown",
      "source": [
        "# **soal minggu kedua**"
      ],
      "metadata": {
        "id": "lZj2UYanTlKh"
      }
    },
    {
      "cell_type": "code",
      "source": [
        "dictionary_naufal= {\n",
        "    \"Nama\"          : \"Naufal MIFTAKHUL siddiq\",\n",
        "    \"Kelas\"         : \"Rombel 4\",\n",
        "    \"Tanggal Lahir\" : \"Temanggung, 4 Juni 2005\",\n",
        "    \"No.  Hp\"       : \"098765433\",\n",
        "    \"Alamat\"        : \"Kranggan Temanggung\",\n",
        "    \"Hobi\"          : ['Dzikir','mujadahan','baca Al quran']\n",
        "}\n",
        "\n",
        "for key,value in dictionary_naufal.items():\n",
        "   if key == \"Hobi\":\n",
        "     print(f\"{key}:\")\n",
        "     for hobi in value:\n",
        "       print(f\"- {hobi}\")\n",
        "   else:\n",
        "     print(f\"{key}: {value}\")\n",
        "\n"
      ],
      "metadata": {
        "id": "v7EeiKfATolB",
        "outputId": "dc6d0341-f184-4330-85f8-5a17c89eab1f",
        "colab": {
          "base_uri": "https://localhost:8080/"
        }
      },
      "execution_count": 7,
      "outputs": [
        {
          "output_type": "stream",
          "name": "stdout",
          "text": [
            "Nama: Naufal MIFTAKHUL siddiq\n",
            "Kelas: Rombel 4\n",
            "Tanggal Lahir: Temanggung, 4 Juni 2005\n",
            "No.  Hp: 098765433\n",
            "Alamat: Kranggan Temanggung\n",
            "Hobi:\n",
            "- Dzikir\n",
            "- mujadahan\n",
            "- baca Al quran\n"
          ]
        }
      ]
    }
  ],
  "metadata": {
    "colab": {
      "name": "Welcome To Colab",
      "provenance": [],
      "include_colab_link": true
    },
    "kernelspec": {
      "display_name": "Python 3",
      "name": "python3"
    }
  },
  "nbformat": 4,
  "nbformat_minor": 0
}