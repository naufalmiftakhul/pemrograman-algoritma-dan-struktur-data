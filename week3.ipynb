{
  "nbformat": 4,
  "nbformat_minor": 0,
  "metadata": {
    "colab": {
      "provenance": [],
      "authorship_tag": "ABX9TyNdhf8x6pEkVkjBdpZKrfnc",
      "include_colab_link": true
    },
    "kernelspec": {
      "name": "python3",
      "display_name": "Python 3"
    },
    "language_info": {
      "name": "python"
    }
  },
  "cells": [
    {
      "cell_type": "markdown",
      "metadata": {
        "id": "view-in-github",
        "colab_type": "text"
      },
      "source": [
        "<a href=\"https://colab.research.google.com/github/naufalmiftakhul/pemrograman-algoritma-dan-struktur-data/blob/main/week3.ipynb\" target=\"_parent\"><img src=\"https://colab.research.google.com/assets/colab-badge.svg\" alt=\"Open In Colab\"/></a>"
      ]
    },
    {
      "cell_type": "code",
      "execution_count": null,
      "metadata": {
        "colab": {
          "base_uri": "https://localhost:8080/"
        },
        "id": "YRSUDY-_9PJy",
        "outputId": "508f0208-866a-4dd0-f3e8-f144317dbfcb"
      },
      "outputs": [
        {
          "output_type": "stream",
          "name": "stdout",
          "text": [
            "hallo naufal miftakhul\n"
          ]
        }
      ],
      "source": [
        "print('hallo naufal miftakhul')"
      ]
    },
    {
      "cell_type": "code",
      "source": [],
      "metadata": {
        "id": "GlVKoBIjQvcE"
      },
      "execution_count": null,
      "outputs": []
    },
    {
      "cell_type": "code",
      "source": [
        "print('naufal miftakhul siddiq',end = ' dan ')\n",
        "print('indi gatari')"
      ],
      "metadata": {
        "colab": {
          "base_uri": "https://localhost:8080/"
        },
        "id": "JyH9CI0i9209",
        "outputId": "6516bd1b-5cde-419c-ba58-80c287e8af22"
      },
      "execution_count": null,
      "outputs": [
        {
          "output_type": "stream",
          "name": "stdout",
          "text": [
            "naufal miftakhul siddiq dan indi gatari\n"
          ]
        }
      ]
    },
    {
      "cell_type": "code",
      "source": [
        "print('teknologi informasi'+' fakultas teknik')"
      ],
      "metadata": {
        "colab": {
          "base_uri": "https://localhost:8080/"
        },
        "id": "s4aQsoH--S8T",
        "outputId": "2cbac010-5150-411b-ddcd-9356360e2633"
      },
      "execution_count": null,
      "outputs": [
        {
          "output_type": "stream",
          "name": "stdout",
          "text": [
            "teknologi informasi fakultas teknik\n"
          ]
        }
      ]
    },
    {
      "cell_type": "code",
      "source": [
        "print('selamat ulang tahun','indi gatari','5','september','2024')"
      ],
      "metadata": {
        "colab": {
          "base_uri": "https://localhost:8080/"
        },
        "id": "Ztbcp-ms-llV",
        "outputId": "c720b2fe-e66e-4602-8921-7ee68e81cb03"
      },
      "execution_count": null,
      "outputs": [
        {
          "output_type": "stream",
          "name": "stdout",
          "text": [
            "selamat ulang tahun indi gatari 5 september 2024\n"
          ]
        }
      ]
    },
    {
      "cell_type": "code",
      "source": [
        "indi = 60\n",
        "naufal = 90\n",
        "\n",
        "\n",
        "print(indi)\n",
        "print(naufal)"
      ],
      "metadata": {
        "colab": {
          "base_uri": "https://localhost:8080/"
        },
        "id": "ojR1meh8_gSv",
        "outputId": "698e5398-3bbc-4a38-d14e-8b85dfa2a9e9"
      },
      "execution_count": null,
      "outputs": [
        {
          "output_type": "stream",
          "name": "stdout",
          "text": [
            "60\n",
            "90\n"
          ]
        }
      ]
    },
    {
      "cell_type": "code",
      "source": [
        "x=4\n",
        "y=5\n",
        "\n",
        "print('jika nilai x {} dan jika nilai y {}'.format(x,y))"
      ],
      "metadata": {
        "colab": {
          "base_uri": "https://localhost:8080/"
        },
        "id": "s-lrqHMEBUqo",
        "outputId": "5edc5442-5fd1-4e3a-ce19-67d44a63c458"
      },
      "execution_count": null,
      "outputs": [
        {
          "output_type": "stream",
          "name": "stdout",
          "text": [
            "jika nilai x 4 dan jika nilai y 5\n"
          ]
        }
      ]
    },
    {
      "cell_type": "code",
      "source": [
        "num= int(input('wntwe a number: '))\n",
        "print('you entered', num)\n",
        "print('data type of num:', type(num))"
      ],
      "metadata": {
        "colab": {
          "base_uri": "https://localhost:8080/"
        },
        "id": "P_u9I5haByoQ",
        "outputId": "6e8d0753-c6c1-484a-f6db-357882cd1a57"
      },
      "execution_count": null,
      "outputs": [
        {
          "output_type": "stream",
          "name": "stdout",
          "text": [
            "wntwe a number: 60\n",
            "you entered 60\n",
            "data type of num: <class 'int'>\n"
          ]
        }
      ]
    },
    {
      "cell_type": "code",
      "source": [
        "!pip install wget"
      ],
      "metadata": {
        "colab": {
          "base_uri": "https://localhost:8080/"
        },
        "id": "YmH6WT27DFGv",
        "outputId": "4030eaa5-1ae7-48df-cdeb-8d78a4489588"
      },
      "execution_count": null,
      "outputs": [
        {
          "output_type": "stream",
          "name": "stdout",
          "text": [
            "Collecting wget\n",
            "  Downloading wget-3.2.zip (10 kB)\n",
            "  Preparing metadata (setup.py) ... \u001b[?25l\u001b[?25hdone\n",
            "Building wheels for collected packages: wget\n",
            "  Building wheel for wget (setup.py) ... \u001b[?25l\u001b[?25hdone\n",
            "  Created wheel for wget: filename=wget-3.2-py3-none-any.whl size=9656 sha256=cd291dce8b1aa7dcafc5b22f1551e836f8b88a543e94d1aad20e34fb43aa349c\n",
            "  Stored in directory: /root/.cache/pip/wheels/8b/f1/7f/5c94f0a7a505ca1c81cd1d9208ae2064675d97582078e6c769\n",
            "Successfully built wget\n",
            "Installing collected packages: wget\n",
            "Successfully installed wget-3.2\n"
          ]
        }
      ]
    },
    {
      "cell_type": "code",
      "source": [
        "!mkdir -p /resources/data\n",
        "!wget -O /resources/data/Example1.txt https://s3-api.us-geo.objectstorage.softlayer.net/cf-courses-data/CognitiveClass/PY0101EN/labs/example1.txt"
      ],
      "metadata": {
        "colab": {
          "base_uri": "https://localhost:8080/"
        },
        "id": "xgPQizHpD-c_",
        "outputId": "daf567c6-deb9-4ef9-fb34-88c4cd493daa"
      },
      "execution_count": null,
      "outputs": [
        {
          "output_type": "stream",
          "name": "stdout",
          "text": [
            "--2024-09-06 07:06:13--  https://s3-api.us-geo.objectstorage.softlayer.net/cf-courses-data/CognitiveClass/PY0101EN/labs/example1.txt\n",
            "Resolving s3-api.us-geo.objectstorage.softlayer.net (s3-api.us-geo.objectstorage.softlayer.net)... 67.228.254.196\n",
            "Connecting to s3-api.us-geo.objectstorage.softlayer.net (s3-api.us-geo.objectstorage.softlayer.net)|67.228.254.196|:443... connected.\n",
            "HTTP request sent, awaiting response... 200 OK\n",
            "Length: 45 [text/plain]\n",
            "Saving to: ‘/resources/data/Example1.txt’\n",
            "\n",
            "\r          /resource   0%[                    ]       0  --.-KB/s               \r/resources/data/Exa 100%[===================>]      45  --.-KB/s    in 0s      \n",
            "\n",
            "2024-09-06 07:06:13 (15.1 MB/s) - ‘/resources/data/Example1.txt’ saved [45/45]\n",
            "\n"
          ]
        }
      ]
    },
    {
      "cell_type": "code",
      "source": [
        "example1 = \"/resources/data/Example1.txt\"\n",
        "file1 = open(example1, \"r\")"
      ],
      "metadata": {
        "id": "AKKKBfFuJ8A6"
      },
      "execution_count": null,
      "outputs": []
    },
    {
      "cell_type": "code",
      "source": [
        "file1.name"
      ],
      "metadata": {
        "colab": {
          "base_uri": "https://localhost:8080/",
          "height": 35
        },
        "id": "c6vqQ7NGJ-t5",
        "outputId": "17a3d22d-ea4c-45f9-9fc8-1f1088049210"
      },
      "execution_count": null,
      "outputs": [
        {
          "output_type": "execute_result",
          "data": {
            "text/plain": [
              "'/resources/data/Example1.txt'"
            ],
            "application/vnd.google.colaboratory.intrinsic+json": {
              "type": "string"
            }
          },
          "metadata": {},
          "execution_count": 14
        }
      ]
    },
    {
      "cell_type": "code",
      "source": [
        "file1.mode"
      ],
      "metadata": {
        "colab": {
          "base_uri": "https://localhost:8080/",
          "height": 35
        },
        "id": "yZYZEk8oKBsh",
        "outputId": "0e820527-c7c8-4af8-ba57-fb7516e14df5"
      },
      "execution_count": null,
      "outputs": [
        {
          "output_type": "execute_result",
          "data": {
            "text/plain": [
              "'r'"
            ],
            "application/vnd.google.colaboratory.intrinsic+json": {
              "type": "string"
            }
          },
          "metadata": {},
          "execution_count": 15
        }
      ]
    },
    {
      "cell_type": "code",
      "source": [
        "with open(example1, \"r\") as file1:\n",
        "    FileContent = file1.read()\n",
        "    print(FileContent)"
      ],
      "metadata": {
        "colab": {
          "base_uri": "https://localhost:8080/"
        },
        "id": "sSGs3mHFKE1a",
        "outputId": "74cab844-87c7-45f9-968b-d9f9a3419b0b"
      },
      "execution_count": null,
      "outputs": [
        {
          "output_type": "stream",
          "name": "stdout",
          "text": [
            "This is line 1 \n",
            "This is line 2\n",
            "This is line 3\n"
          ]
        }
      ]
    },
    {
      "cell_type": "code",
      "source": [
        "print(FileContent)"
      ],
      "metadata": {
        "colab": {
          "base_uri": "https://localhost:8080/"
        },
        "id": "Y0XFgfXSKH3q",
        "outputId": "57b703a4-b80c-4217-dd48-5a6e702a4090"
      },
      "execution_count": null,
      "outputs": [
        {
          "output_type": "stream",
          "name": "stdout",
          "text": [
            "This is line 1 \n",
            "This is line 2\n",
            "This is line 3\n"
          ]
        }
      ]
    },
    {
      "cell_type": "code",
      "source": [
        "with open(example1, \"r\") as file1:\n",
        "    print(file1.read(4))"
      ],
      "metadata": {
        "colab": {
          "base_uri": "https://localhost:8080/"
        },
        "id": "9wwwK_CoKKX6",
        "outputId": "20caaf1f-7ae2-46d7-aca2-560ea66a4068"
      },
      "execution_count": null,
      "outputs": [
        {
          "output_type": "stream",
          "name": "stdout",
          "text": [
            "This\n"
          ]
        }
      ]
    },
    {
      "cell_type": "code",
      "source": [
        "with open(example1, \"r\") as file1:\n",
        "    print(file1.read(4))\n",
        "    print(file1.read(4))\n",
        "    print(file1.read(7))\n",
        "    print(file1.read(15))"
      ],
      "metadata": {
        "colab": {
          "base_uri": "https://localhost:8080/"
        },
        "id": "gPtMZsXMKMPq",
        "outputId": "07764e8a-edd5-4994-bbf3-4c9efe218925"
      },
      "execution_count": null,
      "outputs": [
        {
          "output_type": "stream",
          "name": "stdout",
          "text": [
            "This\n",
            " is \n",
            "line 1 \n",
            "\n",
            "This is line 2\n"
          ]
        }
      ]
    },
    {
      "cell_type": "code",
      "source": [
        "with open(example1, \"r\") as file1:\n",
        "    print(\"first line: \" + file1.readline())"
      ],
      "metadata": {
        "colab": {
          "base_uri": "https://localhost:8080/"
        },
        "id": "v6zAbi6hKQpy",
        "outputId": "309f5bb1-5db1-4557-fa7e-839405f81129"
      },
      "execution_count": null,
      "outputs": [
        {
          "output_type": "stream",
          "name": "stdout",
          "text": [
            "first line: This is line 1 \n",
            "\n"
          ]
        }
      ]
    },
    {
      "cell_type": "code",
      "source": [
        "with open(example1,\"r\") as file1:\n",
        "        i = 0;\n",
        "        for line in file1:\n",
        "            print(\"Iteration\", str(i), \": \", line)\n",
        "            i = i + 1;"
      ],
      "metadata": {
        "colab": {
          "base_uri": "https://localhost:8080/"
        },
        "id": "CtX5RXx5KWha",
        "outputId": "3cbc46d9-1366-4420-993f-6eddf81a8f46"
      },
      "execution_count": null,
      "outputs": [
        {
          "output_type": "stream",
          "name": "stdout",
          "text": [
            "Iteration 0 :  This is line 1 \n",
            "\n",
            "Iteration 1 :  This is line 2\n",
            "\n",
            "Iteration 2 :  This is line 3\n"
          ]
        }
      ]
    },
    {
      "cell_type": "code",
      "source": [
        "Biodata = ['Nama   = Naufal Miftakhul Siddiq \\nProdi  = Teknik Informatika \\nNPM    = 12345678 \\nAlamat = Dayakan Kranggan Temanggung \\nHobi   = Mencintainya \\nEmail  = miftakhulnaufal08@gmail.com']\n",
        "file2 = 'Biodata.txt'\n",
        "with open(file2, 'w') as file1:\n",
        "    for line in Biodata:\n",
        "        file1.write(line)"
      ],
      "metadata": {
        "id": "WvjFyMXLLLcJ"
      },
      "execution_count": null,
      "outputs": []
    },
    {
      "cell_type": "code",
      "source": [
        "dengan terbuka ( 'Biodata.txt' , 'r' ) sebagai  file1 :\n",
        "   c = file1.readlines () cetak ( c [ 0 ]) cetak ( c [ 3 ]) cetak ( c [ 5 ])"
      ],
      "metadata": {
        "colab": {
          "base_uri": "https://localhost:8080/"
        },
        "id": "fvzx7VXERoyn",
        "outputId": "200abded-1ed8-41f7-f625-aa64c80fc6f5"
      },
      "execution_count": null,
      "outputs": [
        {
          "output_type": "stream",
          "name": "stdout",
          "text": [
            "Nama   = Naufal Miftakhul Siddiq \n",
            "\n",
            "Alamat = Dayakan Kranggan Temanggung \n",
            "\n",
            "Email  = miftakhulnaufal08@gmail.com\n"
          ]
        }
      ]
    },
    {
      "cell_type": "code",
      "source": [
        "with open('indi.txt','w') as samno:\n",
        "    samno.write(c[0])\n",
        "    samno.write(c[2])\n",
        "    samno.write(c[1])\n",
        "    samno.write(c[3])\n",
        "\n"
      ],
      "metadata": {
        "id": "r_b9rplqTCu5"
      },
      "execution_count": null,
      "outputs": []
    },
    {
      "cell_type": "code",
      "source": [
        "with open('indi.txt','w') as samno:\n",
        "  print(c[0])\n",
        "  print(c[2])\n",
        "  print(c[1])\n",
        "  print(c[3])"
      ],
      "metadata": {
        "colab": {
          "base_uri": "https://localhost:8080/"
        },
        "id": "0FXEXFhwVuNC",
        "outputId": "91c8accb-122d-4102-c6da-33f71109fe17"
      },
      "execution_count": null,
      "outputs": [
        {
          "output_type": "stream",
          "name": "stdout",
          "text": [
            "Nama   = Naufal Miftakhul Siddiq \n",
            "\n",
            "NPM    = 12345678 \n",
            "\n",
            "Prodi  = Teknik Informatika \n",
            "\n",
            "Alamat = Dayakan Kranggan Temanggung \n",
            "\n"
          ]
        }
      ]
    },
    {
      "cell_type": "code",
      "source": [],
      "metadata": {
        "id": "xMcVY6kaczV7"
      },
      "execution_count": null,
      "outputs": []
    },
    {
      "cell_type": "code",
      "source": [
        "print(\"selamat datang ditoko makmur jaya\")\n",
        "print(\"Senin. 4 September 2023 13.05\")\n",
        "print(\" \")\n",
        "\n",
        "print(\"DAFTAR BELANJA:\")\n",
        "item1 = 'Sabun'\n",
        "item2 = 'Shampo'\n",
        "item3 = 'Mie instant'\n",
        "item4 = 'Detergen'\n",
        "harga1 = 10000\n",
        "harga2 = 15000\n",
        "harga3 = 5000\n",
        "harga4 = 17500\n",
        "\n",
        "total = harga1 + harga2 + harga3 +harga4\n",
        "\n",
        "print (item1+  \"= Rp\"  + str(harga1))\n",
        "print (item2+  \"= Rp\"  + str(harga2))\n",
        "print (item3+  \"= Rp\"  + str(harga3))\n",
        "print (item4+  \"= Rp\"  + str(harga4))\n",
        "\n",
        "print (\" \")\n",
        "print (\"Total = Rp \" + str(total))\n",
        "print (\" \")\n",
        "\n",
        "with open ( 'Kuitansi.txt' , 'w' ) as  writefile :\n",
        "        writefile.write ( \"Selamat Datang di Toko Maju Jaya\\n\")\n",
        "        writefile.write ( \" \\n\" )\n",
        "        writefile.write ( \"Kuitansi - 4 September 2023\\n\" )\n",
        "        writefile.write ( \"\\n\" )\n",
        "        writefile.write ( item1+  \"= Rp\"  +  str (harga1) + \"\\n\")\n",
        "        writefile.write ( item2+  \"= Rp \"  +  str (harga2) + \"\\n\")\n",
        "        writefile.write ( item3+ \" = Rp \"  +  str (harga3) + \"\\n\")\n",
        "        writefile.write ( item4+ \" = Rp \"  +  str (harga4) + \"\\n\")\n",
        "        writefile.write ( \" \\n\" )\n",
        "        writefile.write ( \"Total Belanja =\" +  str (total))"
      ],
      "metadata": {
        "colab": {
          "base_uri": "https://localhost:8080/"
        },
        "id": "h7dEoCGqXHoC",
        "outputId": "1e068080-0b09-4f78-cfc5-582a8bef990b"
      },
      "execution_count": 1,
      "outputs": [
        {
          "output_type": "stream",
          "name": "stdout",
          "text": [
            "selamat datang ditoko makmur jaya\n",
            "Senin. 4 September 2023 13.05\n",
            " \n",
            "DAFTAR BELANJA:\n",
            "Sabun= Rp10000\n",
            "Shampo= Rp15000\n",
            "Mie instant= Rp5000\n",
            "Detergen= Rp17500\n",
            " \n",
            "Total = Rp 47500\n",
            " \n"
          ]
        }
      ]
    },
    {
      "cell_type": "code",
      "source": [],
      "metadata": {
        "id": "RekDdNufZbj7"
      },
      "execution_count": null,
      "outputs": []
    }
  ]
}