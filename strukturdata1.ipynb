{
  "cells": [
    {
      "cell_type": "markdown",
      "metadata": {
        "id": "view-in-github",
        "colab_type": "text"
      },
      "source": [
        "<a href=\"https://colab.research.google.com/github/naufalmiftakhul/pemrograman-algoritma-dan-struktur-data/blob/main/strukturdata1.ipynb\" target=\"_parent\"><img src=\"https://colab.research.google.com/assets/colab-badge.svg\" alt=\"Open In Colab\"/></a>"
      ]
    },
    {
      "cell_type": "markdown",
      "metadata": {
        "id": "5km-n5c6OA1w"
      },
      "source": [
        "# **TUGAS TERAKHIR**"
      ]
    },
    {
      "cell_type": "code",
      "execution_count": null,
      "metadata": {
        "colab": {
          "base_uri": "https://localhost:8080/"
        },
        "id": "AjTM9JGBN_ol",
        "outputId": "2f3c1723-de32-4ce9-b016-2c57dcf2caef"
      },
      "outputs": [
        {
          "output_type": "stream",
          "name": "stdout",
          "text": [
            "selamat datang di Treasure Hunt ! Peta memiliki 10 lokasi (0 hingga 9). \n",
            "Harta karun telah disembunyikan di lokasi acak. Cobalah untuk menemukannya!\n",
            "\n",
            "Harta karun telah disembunyikan! Sekarang giliran pemain menebak\n",
            "Cobalah untuk menemukan harta karun dengan menebak indeks yang benar.\n",
            "\n",
            "Peta saat ini:  ['_', '_', '_', '_', '_', '_', '_', '_', '_', '_']\n"
          ]
        }
      ],
      "source": [
        "import random\n",
        "size = 10\n",
        "\n",
        "treasure_map = [\"_\" for _ in range(size)]\n",
        "\n",
        "print(f\"selamat datang di Treasure Hunt ! Peta memiliki {size} lokasi (0 hingga {size-1}). \")\n",
        "treasure_index = random.randint(0, size-1)\n",
        "print(f\"Harta karun telah disembunyikan di lokasi acak. Cobalah untuk menemukannya!\")\n",
        "while treasure_index < 0 or treasure_index >= size:\n",
        "  print(\"Lokasi tidak valid. Masukkan angka dalam rentan yang benar.\")\n",
        "  treasure_index = int(input(f\"Masukan lokasi harta karun (0 hingga {size-1}): \"))\n",
        "\n",
        "treasure_map[treasure_index] = \"X\"\n",
        "\n",
        "def play_treasure_hunt():\n",
        "  print (\"\\nHarta karun telah disembunyikan! Sekarang giliran pemain menebak\")\n",
        "  print (\"Cobalah untuk menemukan harta karun dengan menebak indeks yang benar.\")\n",
        "  while True:\n",
        "    print (\"\\nPeta saat ini: \", [\"_\" for _ in range(size)])\n",
        "    try:\n",
        "      guess = int(input(f\"Masukkan indeks tebakanmu (0 hingga {size-1}): \"))\n",
        "    except ValueError:\n",
        "      print(\"Masukkan angka yang valid.\")\n",
        "      continue\n",
        "\n",
        "    if guess < 0 or guess >= size:\n",
        "      print(\"Indeks tidak valid, pilih antara 0 hingga\", size-1)\n",
        "      continue\n",
        "\n",
        "    if treasure_map[guess] == \"X\":\n",
        "      print(\"Selamat! Kamu menemukan harta karus di lokasi:\", guess)\n",
        "      break\n",
        "    else:\n",
        "      print(\"Tidak ada harta di lokasi ini. Coba lagi!\")\n",
        "\n",
        "play_treasure_hunt()"
      ]
    }
  ],
  "metadata": {
    "colab": {
      "provenance": [],
      "authorship_tag": "ABX9TyO8izKwdKzJl/gTnjcMkUlB",
      "include_colab_link": true
    },
    "kernelspec": {
      "display_name": "Python 3",
      "name": "python3"
    },
    "language_info": {
      "name": "python"
    }
  },
  "nbformat": 4,
  "nbformat_minor": 0
}