{
  "nbformat": 4,
  "nbformat_minor": 0,
  "metadata": {
    "colab": {
      "provenance": [],
      "authorship_tag": "ABX9TyPTIim2in3gPm8EJtb79IIh",
      "include_colab_link": true
    },
    "kernelspec": {
      "name": "python3",
      "display_name": "Python 3"
    },
    "language_info": {
      "name": "python"
    }
  },
  "cells": [
    {
      "cell_type": "markdown",
      "metadata": {
        "id": "view-in-github",
        "colab_type": "text"
      },
      "source": [
        "<a href=\"https://colab.research.google.com/github/naufalmiftakhul/pemrograman-algoritma-dan-struktur-data/blob/main/week2.ipynb\" target=\"_parent\"><img src=\"https://colab.research.google.com/assets/colab-badge.svg\" alt=\"Open In Colab\"/></a>"
      ]
    },
    {
      "cell_type": "markdown",
      "source": [
        "**latihan pemrograman menggunakan python membuat biodata**"
      ],
      "metadata": {
        "id": "1llvWxKSK-Lb"
      }
    },
    {
      "cell_type": "code",
      "source": [
        "print('Nama          : Naufal Miftakhul Siddiq \\n\\nNPM           : 123456 \\n\\nAlamat        : Kranggan Temanggung \\n\\nTinggi Badan  : sangat pendek \\n\\nBerat Badan   : sangat gemuk')"
      ],
      "metadata": {
        "colab": {
          "base_uri": "https://localhost:8080/"
        },
        "id": "rbHkO9w4LQMD",
        "outputId": "c4fe78a7-d587-4cc5-fa99-60410772b3e0"
      },
      "execution_count": null,
      "outputs": [
        {
          "output_type": "stream",
          "name": "stdout",
          "text": [
            "Nama          : Naufal Miftakhul Siddiq \n",
            "\n",
            "NPM           : 123456 \n",
            "\n",
            "Alamat        : Kranggan Temanggung \n",
            "\n",
            "Tinggi Badan  : sangat pendek \n",
            "\n",
            "Berat Badan   : sangat gemuk\n"
          ]
        }
      ]
    },
    {
      "cell_type": "markdown",
      "source": [
        "**latihan pemrograman menggunakan python membuat tulisan tebal dan biasa**"
      ],
      "metadata": {
        "id": "22U4EguAMYqU"
      }
    },
    {
      "cell_type": "code",
      "source": [
        "print(\"\\033[1mUNIVERSITAS TIDAR\\033[0m \\nUniversitas Tidar merupakan perguruan tinggi pemerintah atau perguruan tinggi negeri yang telah ditetapkan berdasarkan peraturan presiden republik indonesia nomor 23 tahun 2014 pada tanggal 1 april 2014 \\n\\n\\n\\033[1mJURUSAN TEKNIK ELEKTRO , MEKATRONIKA DAN INFORMASI\\033[0m \\nJurusan Teknik Elektro terdiri dari tiga program studi, antara lain: \\n1. S1 Teknik Elektro \\x1B[3m(Bachelor of Elektrical Engineering)\\x1B[0m \\n1. S1 Teknologi Informasi \\x1B[3m(Bachelor of Information Teknologi)\\x1B[0m \\n1. S1 Teknik Mekatronika \\x1B[3m(Bachelor of Mechatronics Engeneering)\\x1B[0m\" )"
      ],
      "metadata": {
        "colab": {
          "base_uri": "https://localhost:8080/"
        },
        "id": "XBDlOe3TMu0s",
        "outputId": "c4d38fde-5978-4b3c-ace2-39c7c6358506"
      },
      "execution_count": null,
      "outputs": [
        {
          "output_type": "stream",
          "name": "stdout",
          "text": [
            "\u001b[1mUNIVERSITAS TIDAR\u001b[0m \n",
            "Universitas Tidar merupakan perguruan tinggi pemerintah atau perguruan tinggi negeri yang telah ditetapkan berdasarkan peraturan presiden republik indonesia nomor 23 tahun 2014 pada tanggal 1 april 2014 \n",
            "\n",
            "\n",
            "\u001b[1mJURUSAN TEKNIK ELEKTRO , MEKATRONIKA DAN INFORMASI\u001b[0m \n",
            "Jurusan Teknik Elektro terdiri dari tiga program studi, antara lain: \n",
            "1. S1 Teknik Elektro \u001b[3m(Bachelor of Elektrical Engineering)\u001b[0m \n",
            "1. S1 Teknologi Informasi \u001b[3m(Bachelor of Information Teknologi)\u001b[0m \n",
            "1. S1 Teknik Mekatronika \u001b[3m(Bachelor of Mechatronics Engeneering)\u001b[0m\n"
          ]
        }
      ]
    },
    {
      "cell_type": "markdown",
      "source": [
        "**unurk membuat bilangan bulat menggunakan**"
      ],
      "metadata": {
        "id": "6DFOYNfhWUBG"
      }
    },
    {
      "cell_type": "code",
      "source": [
        "# bilangan bulat\n",
        "11"
      ],
      "metadata": {
        "colab": {
          "base_uri": "https://localhost:8080/"
        },
        "id": "32t0nvmgWx9V",
        "outputId": "09e0f06c-7e66-4b8c-8d55-533069b99f8f"
      },
      "execution_count": null,
      "outputs": [
        {
          "output_type": "execute_result",
          "data": {
            "text/plain": [
              "11"
            ]
          },
          "metadata": {},
          "execution_count": 14
        }
      ]
    },
    {
      "cell_type": "markdown",
      "source": [
        "**bilangan koma**"
      ],
      "metadata": {
        "id": "BGqQrK3nW1zl"
      }
    },
    {
      "cell_type": "code",
      "source": [
        "# mengambang\n",
        "2.14"
      ],
      "metadata": {
        "colab": {
          "base_uri": "https://localhost:8080/"
        },
        "id": "4VWjZmlIW-T1",
        "outputId": "244188cb-27e0-4981-ef52-eba2dbdf7368"
      },
      "execution_count": null,
      "outputs": [
        {
          "output_type": "execute_result",
          "data": {
            "text/plain": [
              "2.14"
            ]
          },
          "metadata": {},
          "execution_count": 15
        }
      ]
    },
    {
      "cell_type": "markdown",
      "source": [
        "**rangkaian**"
      ],
      "metadata": {
        "id": "emZdmV4zXDYV"
      }
    },
    {
      "cell_type": "code",
      "source": [
        "\"hello, phython 102\""
      ],
      "metadata": {
        "colab": {
          "base_uri": "https://localhost:8080/",
          "height": 35
        },
        "id": "xOmm7UbZXH51",
        "outputId": "a25f3daf-5cbb-4f41-e5ca-cfbc47a99c3c"
      },
      "execution_count": null,
      "outputs": [
        {
          "output_type": "execute_result",
          "data": {
            "text/plain": [
              "'hello, phython 102'"
            ],
            "application/vnd.google.colaboratory.intrinsic+json": {
              "type": "string"
            }
          },
          "metadata": {},
          "execution_count": 16
        }
      ]
    },
    {
      "cell_type": "markdown",
      "source": [
        "**latihan agar python dapat menentukan antara itu bilangan bulat int, bilangan bulat float, dan string karakter sbg str**"
      ],
      "metadata": {
        "id": "wjWqrv50XlLu"
      }
    },
    {
      "cell_type": "code",
      "source": [
        "type(12)"
      ],
      "metadata": {
        "colab": {
          "base_uri": "https://localhost:8080/"
        },
        "id": "P1A7ou-hX6S2",
        "outputId": "1de8efbc-92a8-412b-c995-ae3d60202c4f"
      },
      "execution_count": null,
      "outputs": [
        {
          "output_type": "execute_result",
          "data": {
            "text/plain": [
              "int"
            ]
          },
          "metadata": {},
          "execution_count": 17
        }
      ]
    },
    {
      "cell_type": "code",
      "source": [
        "type(1.45)"
      ],
      "metadata": {
        "colab": {
          "base_uri": "https://localhost:8080/"
        },
        "id": "cxrV9eL8X_5H",
        "outputId": "bed64f5e-e855-4988-fc81-614ea650b0b1"
      },
      "execution_count": null,
      "outputs": [
        {
          "output_type": "execute_result",
          "data": {
            "text/plain": [
              "float"
            ]
          },
          "metadata": {},
          "execution_count": 19
        }
      ]
    },
    {
      "cell_type": "code",
      "source": [
        "type(\"hello, indi gatari\")"
      ],
      "metadata": {
        "colab": {
          "base_uri": "https://localhost:8080/"
        },
        "id": "_hyoM92JYGqm",
        "outputId": "ac103827-cd24-428f-ba88-32ed4a669ef1"
      },
      "execution_count": null,
      "outputs": [
        {
          "output_type": "execute_result",
          "data": {
            "text/plain": [
              "str"
            ]
          },
          "metadata": {},
          "execution_count": 23
        }
      ]
    },
    {
      "cell_type": "code",
      "source": [
        "type(-5)"
      ],
      "metadata": {
        "colab": {
          "base_uri": "https://localhost:8080/"
        },
        "id": "edcNX03tYd4_",
        "outputId": "4ac91d5f-2d32-4b73-fd3f-f7fbe5255705"
      },
      "execution_count": null,
      "outputs": [
        {
          "output_type": "execute_result",
          "data": {
            "text/plain": [
              "int"
            ]
          },
          "metadata": {},
          "execution_count": 24
        }
      ]
    },
    {
      "cell_type": "code",
      "source": [
        "import sys\n",
        "sys. float_info"
      ],
      "metadata": {
        "colab": {
          "base_uri": "https://localhost:8080/"
        },
        "id": "TfJV3fJ0Ylhv",
        "outputId": "df169904-a9f2-4ae7-c775-c16c9a3bb627"
      },
      "execution_count": null,
      "outputs": [
        {
          "output_type": "execute_result",
          "data": {
            "text/plain": [
              "sys.float_info(max=1.7976931348623157e+308, max_exp=1024, max_10_exp=308, min=2.2250738585072014e-308, min_exp=-1021, min_10_exp=-307, dig=15, mant_dig=53, epsilon=2.220446049250313e-16, radix=2, rounds=1)"
            ]
          },
          "metadata": {},
          "execution_count": 25
        }
      ]
    },
    {
      "cell_type": "code",
      "source": [
        "40 + 50 * 50 // 40"
      ],
      "metadata": {
        "colab": {
          "base_uri": "https://localhost:8080/"
        },
        "id": "X0tL5oz5ZA4f",
        "outputId": "0df50845-597f-4d13-cc37-9577be8d2878"
      },
      "execution_count": null,
      "outputs": [
        {
          "output_type": "execute_result",
          "data": {
            "text/plain": [
              "102"
            ]
          },
          "metadata": {},
          "execution_count": 3
        }
      ]
    },
    {
      "cell_type": "code",
      "source": [
        "(30 + 5) * 40"
      ],
      "metadata": {
        "colab": {
          "base_uri": "https://localhost:8080/"
        },
        "id": "xxZ5SLp8ZZLv",
        "outputId": "0955d63d-68d0-414c-dc04-ad283e109759"
      },
      "execution_count": null,
      "outputs": [
        {
          "output_type": "execute_result",
          "data": {
            "text/plain": [
              "1400"
            ]
          },
          "metadata": {},
          "execution_count": 4
        }
      ]
    },
    {
      "cell_type": "code",
      "source": [
        "(30 + 50) * 6"
      ],
      "metadata": {
        "colab": {
          "base_uri": "https://localhost:8080/"
        },
        "id": "sb-NCrHCO_8g",
        "outputId": "76fca51f-d4e2-427e-ba01-fa79fd45106c"
      },
      "execution_count": null,
      "outputs": [
        {
          "output_type": "execute_result",
          "data": {
            "text/plain": [
              "480"
            ]
          },
          "metadata": {},
          "execution_count": 1
        }
      ]
    },
    {
      "cell_type": "markdown",
      "source": [
        "Latihan week 2 soal 1"
      ],
      "metadata": {
        "id": "BpRosdtbMQt0"
      }
    },
    {
      "cell_type": "code",
      "source": [
        " panjang = 20.5\n",
        " lebar = 25\n",
        " tinggi = 10\n",
        "\n",
        "keliling =2*(panjang+lebar)\n",
        "luas = panjang*lebar\n",
        "volume = panjang*lebar*tinggi\n",
        "\n",
        "print('Panjang=',panjang)\n",
        "print('Lebar=',lebar)\n",
        "print('Tinggi=',tinggi)\n",
        "print('Keliling=',keliling)\n",
        "print('Volume=',volume)"
      ],
      "metadata": {
        "colab": {
          "base_uri": "https://localhost:8080/"
        },
        "id": "MgqA6rA3MTUH",
        "outputId": "a6ae1c62-3c6a-410f-c2a6-adc0ea641ebe"
      },
      "execution_count": null,
      "outputs": [
        {
          "output_type": "stream",
          "name": "stdout",
          "text": [
            "Panjang= 20.5\n",
            "Lebar= 25\n",
            "Tinggi= 10\n",
            "Keliling= 91.0\n",
            "Volume= 5125.0\n"
          ]
        }
      ]
    },
    {
      "cell_type": "markdown",
      "source": [
        "Latihan week 2 soal ke2"
      ],
      "metadata": {
        "id": "A4q-uvyRNrS1"
      }
    },
    {
      "cell_type": "code",
      "source": [
        "rata_rata_nilai_shafira= (85+75)/2\n",
        "print('1.Rata-rata nilai shafira pada kedua mata kuliah=',rata_rata_nilai_shafira)\n",
        "jumlah_nilai_hanif_andi= 75+90+70+75\n",
        "print('2.jumlah nilai hanif dan andi untuk semua mata kuliah=',jumlah_nilai_hanif_andi)\n",
        "rata_rata_kalkulus_widya_dhamar_hikma_nedia=(85+85+80+95)/4\n",
        "print('3.rata rata nilai kalkulus widya,dhamar,hikam,dan nedia=',rata_rata_kalkulus_widya_dhamar_hikma_nedia)\n",
        "rata_rata_nilai_semua_mahasiswa=(85+80+75+95+85+75+70+85+80)/9\n",
        "print('4.rata rata nilai mata kuliah kalkulus 1 untuk semua=',rata_rata_nilai_semua_mahasiswa)\n",
        "rata_rata_nilai_statistika_semua_mahasiswa=(75+90+80+80+85+90+75+85+75)/9\n",
        "print('5.rata rata nilai mata kuliah metode statistika ssmua mahasiswa=',rata_rata_nilai_statistika_semua_mahasiswa)"
      ],
      "metadata": {
        "colab": {
          "base_uri": "https://localhost:8080/"
        },
        "id": "1UEuN5ZqNt7g",
        "outputId": "166d1b56-6b98-4bc8-80c9-6384c9f03b0a"
      },
      "execution_count": null,
      "outputs": [
        {
          "output_type": "stream",
          "name": "stdout",
          "text": [
            "1.Rata-rata nilai shafira pada kedua mata kuliah= 80.0\n",
            "2.jumlah nilai hanif dan andi untuk semua mata kuliah= 310\n",
            "3.rata rata nilai kalkulus widya,dhamar,hikam,dan nedia= 86.25\n",
            "4.rata rata nilai mata kuliah kalkulus 1 untuk semua= 81.11111111111111\n",
            "5.rata rata nilai mata kuliah metode statistika ssmua mahasiswa= 81.66666666666667\n"
          ]
        }
      ]
    },
    {
      "cell_type": "markdown",
      "source": [
        "Latihan week 2 soal ke 3"
      ],
      "metadata": {
        "id": "sBmTHBxuTmY-"
      }
    },
    {
      "cell_type": "code",
      "source": [
        "#bekerja selama 8 jam perhari\n",
        "#perjam dikalikan 30.000\n",
        "\n",
        "gaji_agustus_tidak_kerja_tigahari=(8*30.000*31)-(8*30.000*3)\n",
        "print('1.gaji dewi pada bulan agustus jiga tidak masuk selama 3 hari=',gaji_agustus_tidak_kerja_tigahari)\n",
        "gaji_agustus_tunjangan=(6.720*10/100)+6.720\n",
        "print('2.gaji bulan agustus dengan tambahan tunjangan=',gaji_agustus_tunjangan)\n",
        "gaji_lembur=(5*10.000)+7391.9\n",
        "print('3.gaji jika dewi lembur selama 5 jam selama sebulan=',gaji_lembur)"
      ],
      "metadata": {
        "colab": {
          "base_uri": "https://localhost:8080/"
        },
        "id": "pD8UL8IrToP-",
        "outputId": "f639294e-36fb-4613-e748-a83a240a8cdb"
      },
      "execution_count": null,
      "outputs": [
        {
          "output_type": "stream",
          "name": "stdout",
          "text": [
            "1.gaji dewi pada bulan agustus jiga tidak masuk selama 3 hari= 6720.0\n",
            "2.gaji bulan agustus dengan tambahan tunjangan= 7.3919999999999995\n",
            "3.gaji jika dewi lembur selama 5 jam selama sebulan= 8791.9\n"
          ]
        }
      ]
    }
  ]
}