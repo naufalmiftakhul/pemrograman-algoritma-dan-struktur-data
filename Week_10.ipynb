{
  "nbformat": 4,
  "nbformat_minor": 0,
  "metadata": {
    "colab": {
      "provenance": [],
      "authorship_tag": "ABX9TyOhkThF22zJkbRrp6bUomzt",
      "include_colab_link": true
    },
    "kernelspec": {
      "name": "python3",
      "display_name": "Python 3"
    },
    "language_info": {
      "name": "python"
    }
  },
  "cells": [
    {
      "cell_type": "markdown",
      "metadata": {
        "id": "view-in-github",
        "colab_type": "text"
      },
      "source": [
        "<a href=\"https://colab.research.google.com/github/naufalmiftakhul/pemrograman-algoritma-dan-struktur-data/blob/main/Week_10.ipynb\" target=\"_parent\"><img src=\"https://colab.research.google.com/assets/colab-badge.svg\" alt=\"Open In Colab\"/></a>"
      ]
    },
    {
      "cell_type": "code",
      "source": [
        "def my_function():\n",
        "  print(\"Naufal Miftakhul Siddiq\")\n",
        "my_function()"
      ],
      "metadata": {
        "colab": {
          "base_uri": "https://localhost:8080/"
        },
        "id": "xXxMMDviSQpV",
        "outputId": "a513b6ee-6ecf-40e0-c0bf-17089b3fa3c6"
      },
      "execution_count": 6,
      "outputs": [
        {
          "output_type": "stream",
          "name": "stdout",
          "text": [
            "Naufal Miftakhul Siddiq\n"
          ]
        }
      ]
    },
    {
      "cell_type": "code",
      "source": [
        "def my_function(*indi):\n",
        "  print(\"saya bisa dipanggil \" + indi[0])\n",
        "\n",
        "my_function(\"naufal\", \"miftakhul\", \"siddiq\")"
      ],
      "metadata": {
        "id": "XgzrKLi2SFqq"
      },
      "execution_count": null,
      "outputs": []
    },
    {
      "cell_type": "code",
      "source": [
        "n = int(input('Masukkan Bilangan :'))\n",
        "\n",
        "def faktorial(n):\n",
        "    if n == 1 or n == 0:\n",
        "        return 1\n",
        "    else:\n",
        "        return n * faktorial(n-1)\n",
        "\n",
        "print(f\"nilai dari {n}! = \", faktorial(n))"
      ],
      "metadata": {
        "colab": {
          "base_uri": "https://localhost:8080/"
        },
        "id": "YVS6QmuxRgWW",
        "outputId": "8a4ed166-404f-454c-c3ab-5e47471ac1ec"
      },
      "execution_count": 4,
      "outputs": [
        {
          "output_type": "stream",
          "name": "stdout",
          "text": [
            "Masukkan Bilangan :5\n",
            "nilai dari 5! =  120\n"
          ]
        }
      ]
    },
    {
      "cell_type": "code",
      "execution_count": null,
      "metadata": {
        "id": "6khYydnzSFrq",
        "colab": {
          "base_uri": "https://localhost:8080/"
        },
        "outputId": "a65168e4-2b9a-4834-fa71-f4d5b390eb2c"
      },
      "outputs": [
        {
          "output_type": "stream",
          "name": "stdout",
          "text": [
            "Menu:\n",
            "1. Luas Lingkaran\n",
            "2. Luas Persegi\n",
            "3. Luas Segitiga\n",
            "4. Keluar\n",
            "pilih menu (1-4): 1\n",
            "Masukkan jari-jari: 4\n",
            "Luas Lingkaran =  50.24\n",
            "Menu:\n",
            "1. Luas Lingkaran\n",
            "2. Luas Persegi\n",
            "3. Luas Segitiga\n",
            "4. Keluar\n",
            "pilih menu (1-4): 1\n",
            "Masukkan jari-jari: 4\n",
            "Luas Lingkaran =  50.24\n",
            "Menu:\n",
            "1. Luas Lingkaran\n",
            "2. Luas Persegi\n",
            "3. Luas Segitiga\n",
            "4. Keluar\n"
          ]
        }
      ],
      "source": [
        "while True:\n",
        "  print(\"Menu:\")\n",
        "  print(\"1. Luas Lingkaran\")\n",
        "  print(\"2. Luas Persegi\")\n",
        "  print(\"3. Luas Segitiga\")\n",
        "  print(\"4. Keluar\")\n",
        "\n",
        "  pilihan = input(\"pilih menu (1-4): \")\n",
        "\n",
        "  if pilihan == '1' :\n",
        "    r = float(input(\"Masukkan jari-jari: \"))\n",
        "    luas = 3.14 * r * r\n",
        "    print(f\"Luas Lingkaran = {luas: .2f}\")\n",
        "\n",
        "  elif pilihan == '2' :\n",
        "    s = float(input(\"Masukkan sisi: \"))\n",
        "    luas = s * s\n",
        "    print(f\"Luas Persegi = {luas}\")\n",
        "\n",
        "  elif pilihan == '3' :\n",
        "    a = float(input(\"Masukkan alas: \"))\n",
        "    t = float(input(\"Masukkan tinggi: \"))\n",
        "    luas = 0.5 * a * t\n",
        "    print(f\"Luas Segitiga = {luas}\")\n",
        "\n",
        "  elif pilihan == '4' :\n",
        "    print(\"Program selesai\")\n",
        "    break\n",
        "\n",
        "  else :\n",
        "    print(\"Pilihan tidak valid\")"
      ]
    }
  ]
}