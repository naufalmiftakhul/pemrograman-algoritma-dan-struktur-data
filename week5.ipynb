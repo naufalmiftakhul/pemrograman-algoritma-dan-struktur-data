{
  "nbformat": 4,
  "nbformat_minor": 0,
  "metadata": {
    "colab": {
      "provenance": [],
      "authorship_tag": "ABX9TyMLfG0kg1A7zRaYw87xPnJy",
      "include_colab_link": true
    },
    "kernelspec": {
      "name": "python3",
      "display_name": "Python 3"
    },
    "language_info": {
      "name": "python"
    }
  },
  "cells": [
    {
      "cell_type": "markdown",
      "metadata": {
        "id": "view-in-github",
        "colab_type": "text"
      },
      "source": [
        "<a href=\"https://colab.research.google.com/github/naufalmiftakhul/pemrograman-algoritma-dan-struktur-data/blob/main/week5.ipynb\" target=\"_parent\"><img src=\"https://colab.research.google.com/assets/colab-badge.svg\" alt=\"Open In Colab\"/></a>"
      ]
    },
    {
      "cell_type": "code",
      "execution_count": null,
      "metadata": {
        "colab": {
          "base_uri": "https://localhost:8080/"
        },
        "id": "pljJV_BJDJqd",
        "outputId": "d614a33d-cfdb-45d4-9f9f-bf5a67e379f2"
      },
      "outputs": [
        {
          "output_type": "stream",
          "name": "stdout",
          "text": [
            "Enter a number: 2004\n",
            "The number is positive.\n"
          ]
        }
      ],
      "source": [
        "num = float(input(\"Enter a number: \"))\n",
        "if num > 0:\n",
        "    print(\"The number is positive.\")\n",
        "else:\n",
        "    if num < 0:\n",
        "        print(\"The number is negative.\")\n",
        "    else:\n",
        "        print(\"The number is zero.\")"
      ]
    },
    {
      "cell_type": "markdown",
      "source": [
        "#**soal minggu pertama**"
      ],
      "metadata": {
        "id": "yHqSWWWFHY53"
      }
    },
    {
      "cell_type": "code",
      "source": [
        "year_kabisat = int(input(\"Enter a year: \"))\n",
        "\n",
        "if year_kabisat % 4 == 0:\n",
        "    print(\"tahun kabisat\")\n",
        "else:\n",
        "    print(\"bukan tahun kabisat\")"
      ],
      "metadata": {
        "colab": {
          "base_uri": "https://localhost:8080/"
        },
        "id": "IIqNwGpoF1if",
        "outputId": "db1188f9-fc6c-4a42-9639-03a537de89a5"
      },
      "execution_count": null,
      "outputs": [
        {
          "output_type": "stream",
          "name": "stdout",
          "text": [
            "Enter a year: 2004\n",
            "tahun kabisat\n"
          ]
        }
      ]
    },
    {
      "cell_type": "markdown",
      "source": [
        "#**soal minggu ke 2**"
      ],
      "metadata": {
        "id": "AgOr7bT1HiXH"
      }
    },
    {
      "cell_type": "code",
      "source": [
        "a, b, c = (\n",
        "  int(input('Masukkan nilai a: ')),\n",
        "  int(input('Masukkan nilai b: ')),\n",
        "  int(input('Masukkan nilai c: '))\n",
        ")\n",
        "if a > b and a > c:\n",
        "  print('A yang terbesar')\n",
        "elif b > a and b > c:\n",
        "  print('B yang terbesar')\n",
        "else:\n",
        "  print('C yang terbesar')"
      ],
      "metadata": {
        "colab": {
          "base_uri": "https://localhost:8080/"
        },
        "id": "GPKbffEKHhN_",
        "outputId": "7a430a0b-0eab-49de-8c44-5881bc14fd21"
      },
      "execution_count": null,
      "outputs": [
        {
          "output_type": "stream",
          "name": "stdout",
          "text": [
            "Masukkan nilai a: 2\n",
            "Masukkan nilai b: 3\n",
            "Masukkan nilai c: 4\n",
            "C yang terbesar\n"
          ]
        }
      ]
    },
    {
      "cell_type": "markdown",
      "source": [
        "\n",
        "#**soal minggu ke3**\n",
        "> Add blockquote\n",
        "\n"
      ],
      "metadata": {
        "id": "Rbt5Kr_fI1Pf"
      }
    },
    {
      "cell_type": "code",
      "source": [
        "total_belanja = float(input('Total Belanja: Rp.'))\n",
        "konsumen = input('Apakah anda member? (ya/tidak):')\n",
        "\n",
        "\n",
        "if konsumen == 'ya':\n",
        "  if total_belanja >= 100000<=199000:\n",
        "   harga_akhir = total_belanja - (0.5*total_belanja)\n",
        "  print(\"total belanja anda menjadi Rp.\",harga_akhir)\n",
        "\n",
        "\n",
        "elif konsumen == 'tidak':\n",
        "    if total_belanja >= 100000<=199000:\n",
        "     nomember = total_belanja - (0.3*total_belanja)\n",
        "    print(\"total belanja anda menjadi Rp.\",nomember)\n",
        "\n",
        "elif konsumen == 'ya':\n",
        "    if total_belanja >= 200000<=500000:\n",
        "     harga_akhir = total_belanja - (0.6*total_belanja)\n",
        "    print(\"total belanja anda menjadi Rp.\",harga_akhir)\n",
        "\n",
        "\n",
        "elif konsumen == 'tidak':\n",
        "    if total_belanja >= 200000<=500000:\n",
        "     nomember = total_belanja - (0.4*total_belanja)\n",
        "    print(\"total belanja anda menjadi Rp.\",nomember)"
      ],
      "metadata": {
        "colab": {
          "base_uri": "https://localhost:8080/"
        },
        "id": "bOPjuRMVI03X",
        "outputId": "868147ce-d1d0-4801-8b2a-f8d420e0c1aa"
      },
      "execution_count": null,
      "outputs": [
        {
          "output_type": "stream",
          "name": "stdout",
          "text": [
            "Total Belanja: Rp.400000\n",
            "Apakah anda member? (ya/tidak):ya\n",
            "total belanja anda menjadi Rp. 200000.0\n"
          ]
        }
      ]
    },
    {
      "cell_type": "markdown",
      "source": [
        "#**soal minggu ke4**"
      ],
      "metadata": {
        "id": "8epFuCR_X5Gr"
      }
    },
    {
      "cell_type": "code",
      "source": [
        "username, email, password = (\n",
        "  (input('masukkan username: ')),\n",
        "  (input('Masukkan email : ')),\n",
        "  (input('Masukkan password : '))\n",
        ")\n",
        "\n",
        "if username == \"\":\n",
        "  print('username tidak valid')\n",
        "elif \"@\" not in email:\n",
        "  print('email tidak valid')\n",
        "elif len(password) < 8:\n",
        "  print('password tidak valid')"
      ],
      "metadata": {
        "colab": {
          "base_uri": "https://localhost:8080/"
        },
        "id": "RYoDaS-vX4m0",
        "outputId": "dd5114f0-58b7-4f4b-c5ec-1284781723b8"
      },
      "execution_count": null,
      "outputs": [
        {
          "name": "stdout",
          "output_type": "stream",
          "text": [
            "masukkan username: safsdfgrfger\n",
            "Masukkan email : nopal@gmail.com\n",
            "Masukkan password : 123456788\n"
          ]
        }
      ]
    },
    {
      "cell_type": "code",
      "source": [],
      "metadata": {
        "id": "LbwFF28nZHSc"
      },
      "execution_count": null,
      "outputs": []
    }
  ]
}