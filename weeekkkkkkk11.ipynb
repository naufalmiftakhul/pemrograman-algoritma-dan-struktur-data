{
  "cells": [
    {
      "cell_type": "code",
      "execution_count": null,
      "metadata": {
        "id": "oPJ4MToHf8Kk"
      },
      "outputs": [],
      "source": [
        "import nopalindi\n",
        "\n",
        "print(\"luas lingkaran: \", nopalindi.luas_lingkaran())\n",
        "print(\"luas persegi: \", nopalindi.luas_persegi())\n",
        "print(\"luas segitiga: \", nopalindi.luas_segitiga())"
      ]
    },
    {
      "cell_type": "code",
      "execution_count": null,
      "metadata": {
        "colab": {
          "background_save": true,
          "base_uri": "https://localhost:8080/"
        },
        "id": "2LvdVFb6lhIN",
        "outputId": "b27904fe-46d5-48a4-8ed4-88ba6bbbe4e0"
      },
      "outputs": [
        {
          "name": "stdout",
          "output_type": "stream",
          "text": [
            "Akar Kuadrat dari 8.0 = 2.8284271247461903\n",
            "Pembulatan Desimal 8.0 = 8\n",
            "Factorial dari 8 = 40320\n",
            "Logaritma 10 adalah 8.0 = 0.9030899869919435\n"
          ]
        }
      ],
      "source": [
        "import math\n",
        "\n",
        "numbers = float(input(\"Masukkan Angka = \"))\n",
        "akarkuadrat = math.sqrt(numbers)\n",
        "print(f\"Akar Kuadrat dari {numbers} = {akarkuadrat}\")\n",
        "\n",
        "decimal = float(input(\"Masukkan Angka desimal = \"))\n",
        "pembulatanatas = math.ceil(decimal)\n",
        "print(f\"Pembulatan Desimal {decimal} = {pembulatanatas}\")\n",
        "\n",
        "numbersfactorial = int(input(\"Masukkan Angka faktorial = \"))\n",
        "factorial = math.factorial(numbersfactorial)\n",
        "print(f\"Factorial dari {numbersfactorial} = {factorial}\")\n",
        "\n",
        "numberslog = float(input(\"Masukkan Angka Log = \"))\n",
        "logaritma = math.log10(numberslog)\n",
        "print(f\"Logaritma 10 adalah {numberslog} = {logaritma}\")\n",
        "\n",
        "derajat = float(input(\"Masukkan sudut derajat = \"))\n",
        "radian = math.radians(derajat)\n",
        "print(f\"Konversi {derajat} ke dalam radians {radian}\")"
      ]
    },
    {
      "cell_type": "code",
      "execution_count": null,
      "metadata": {
        "id": "dJK7OJQ2y6D1"
      },
      "outputs": [],
      "source": []
    }
  ],
  "metadata": {
    "colab": {
      "provenance": []
    },
    "kernelspec": {
      "display_name": "Python 3",
      "name": "python3"
    },
    "language_info": {
      "name": "python"
    }
  },
  "nbformat": 4,
  "nbformat_minor": 0
}