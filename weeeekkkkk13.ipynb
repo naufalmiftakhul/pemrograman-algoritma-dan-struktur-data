{
  "nbformat": 4,
  "nbformat_minor": 0,
  "metadata": {
    "colab": {
      "provenance": [],
      "authorship_tag": "ABX9TyNEufnowbyoQtOEjWYU6AgT",
      "include_colab_link": true
    },
    "kernelspec": {
      "name": "python3",
      "display_name": "Python 3"
    },
    "language_info": {
      "name": "python"
    }
  },
  "cells": [
    {
      "cell_type": "markdown",
      "metadata": {
        "id": "view-in-github",
        "colab_type": "text"
      },
      "source": [
        "<a href=\"https://colab.research.google.com/github/naufalmiftakhul/pemrograman-algoritma-dan-struktur-data/blob/main/weeeekkkkk13.ipynb\" target=\"_parent\"><img src=\"https://colab.research.google.com/assets/colab-badge.svg\" alt=\"Open In Colab\"/></a>"
      ]
    },
    {
      "cell_type": "code",
      "source": [
        "class AlatTulis:\n",
        "    def __init__(self, nama, stok, harga_satuan,):\n",
        "        self.nama = nama\n",
        "        self.stok = stok\n",
        "        self.harga_satuan = harga_satuan\n",
        "        self.harga_total = harga_satuan * stok\n",
        "\n",
        "    def set_nama(self, nama):\n",
        "        self.nama = nama\n",
        "\n",
        "    def set_stok(self, stok):\n",
        "        self.stok = stok\n",
        "\n",
        "    def set_harga_satuan(self, harga_satuan):\n",
        "        self.harga_satuan = harga_satuan\n",
        "\n",
        "    def set_harga_total(self, harga_total):\n",
        "        self.harga_total =  self.harga_satuan * self.stok\n",
        "\n",
        "\n",
        "    def get_nama(self):\n",
        "        return self.nama\n",
        "\n",
        "    def get_stok(self):\n",
        "        return self.stok\n",
        "\n",
        "    def get_harga_satuan(self):\n",
        "        return self.harga_satuan\n",
        "\n",
        "    def get_harga_total(self):\n",
        "        return self.harga_total\n",
        "\n",
        "Bolpoint = AlatTulis(\"Bolpoint\",10, 2000)\n",
        "Pensil = AlatTulis(\"Pensil\",10, 1000)\n",
        "Penghapus = AlatTulis(\"Penghapus\",10, 500)\n",
        "\n",
        "print(f\"Nama : {Bolpoint.get_nama()}, Stok : {Bolpoint.get_stok()}, Harga Satuan : {Bolpoint.get_harga_satuan()}, Harga Total : {Bolpoint.get_harga_total()}\")\n",
        "print(f\"Nama : {Pensil.get_nama()}, Stok : {Pensil.get_stok()}, Harga Satuan : {Pensil.get_harga_satuan()}, Harga Total : {Pensil.get_harga_total()}\")\n",
        "print(f\"Nama : {Penghapus.get_nama()}, Stok : {Penghapus.get_stok()}, Harga Satuan : {Penghapus.get_harga_satuan()}, Harga Total : {Penghapus.get_harga_total()}\")\n",
        "\n",
        "harga_total = Bolpoint.get_harga_total() + Pensil.get_harga_total() + Penghapus.get_harga_total()\n",
        "print(f\"Total Harga : {harga_total}\")\n",
        "print(\"AlatTulis\")"
      ],
      "metadata": {
        "colab": {
          "base_uri": "https://localhost:8080/"
        },
        "id": "nzZmllMsb3uI",
        "outputId": "32b09fb4-b011-49aa-db7f-4eef97e1e7ed"
      },
      "execution_count": null,
      "outputs": [
        {
          "output_type": "stream",
          "name": "stdout",
          "text": [
            "Nama : Bolpoint, Stok : 10, Harga Satuan : 2000, Harga Total : 20000\n",
            "Nama : Pensil, Stok : 10, Harga Satuan : 1000, Harga Total : 10000\n",
            "Nama : Penghapus, Stok : 10, Harga Satuan : 500, Harga Total : 5000\n",
            "Total Harga : 35000\n",
            "AlatTulis\n"
          ]
        }
      ]
    },
    {
      "cell_type": "code",
      "source": [],
      "metadata": {
        "id": "jUmDVZeyj8Jj"
      },
      "execution_count": null,
      "outputs": []
    }
  ]
}